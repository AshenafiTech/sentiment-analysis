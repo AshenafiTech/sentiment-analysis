{
 "cells": [
  {
   "cell_type": "code",
   "execution_count": null,
   "metadata": {},
   "outputs": [],
   "source": [
    "import numpy as np\n",
    "import pandas as pd\n",
    "import re\n",
    "import pickle\n",
    "import nltk\n",
    "from nltk.corpus import stopwords\n",
    "from nltk.stem.porter import PorterStemmer\n",
    "from sklearn.feature_extraction.text import TfidfVectorizer\n",
    "from sklearn.model_selection import train_test_split\n",
    "from sklearn.linear_model import LogisticRegression\n",
    "from sklearn.metrics import accuracy_score\n",
    "from datasets import load_dataset"
   ]
  },
  {
   "cell_type": "code",
   "execution_count": null,
   "metadata": {},
   "outputs": [],
   "source": [
    "nltk.download('stopwords')\n",
    "stop_words = set(stopwords.words('english'))\n",
    "port_stem = PorterStemmer()"
   ]
  },
  {
   "cell_type": "code",
   "execution_count": null,
   "metadata": {},
   "outputs": [],
   "source": [
    "dataset = load_dataset(\"tweet_eval\", \"sentiment\")\n",
    "train_df = dataset['train'].to_pandas()\n",
    "test_df = dataset['test'].to_pandas()\n",
    "val_df = dataset['validation'].to_pandas()\n",
    "\n",
    "twitter_data = pd.concat([train_df, test_df, val_df], ignore_index=True)\n",
    "label_map = {0: \"Negative\", 1: \"Neutral\", 2: \"Positive\"}\n",
    "twitter_data['label_text'] = twitter_data['label'].map(label_map)\n",
    "twitter_data = twitter_data.rename(columns={\"text\": \"text\", \"label\": \"target\"})\n",
    "twitter_data = twitter_data.sample(frac=1, random_state=42).reset_index(drop=True)\n",
    "twitter_data.head()"
   ]
  },
  {
   "cell_type": "code",
   "execution_count": null,
   "metadata": {},
   "outputs": [],
   "source": [
    "def stemming(content):\n",
    "    stemmed_content = re.sub('[^a-zA-Z]', ' ', content)\n",
    "    stemmed_content = stemmed_content.lower()\n",
    "    stemmed_content = stemmed_content.split()\n",
    "    stemmed_content = [port_stem.stem(word) for word in stemmed_content if word not in stop_words]\n",
    "    return ' '.join(stemmed_content)\n",
    "\n",
    "twitter_data['stemmed_content'] = twitter_data['text'].apply(stemming)"
   ]
  },
  {
   "cell_type": "code",
   "execution_count": null,
   "metadata": {},
   "outputs": [],
   "source": [
    "X = twitter_data['stemmed_content'].values\n",
    "Y = twitter_data['target'].values\n",
    "\n",
    "X_train, X_test, Y_train, Y_test = train_test_split(X, Y, test_size=0.2, stratify=Y, random_state=2)"
   ]
  },
  {
   "cell_type": "code",
   "execution_count": null,
   "metadata": {},
   "outputs": [],
   "source": [
    "vectorizer = TfidfVectorizer()\n",
    "vectorizer.fit(X_train)\n",
    "\n",
    "X_train = vectorizer.transform(X_train)\n",
    "X_test = vectorizer.transform(X_test)"
   ]
  },
  {
   "cell_type": "code",
   "execution_count": null,
   "metadata": {},
   "outputs": [],
   "source": [
    "model = LogisticRegression(max_iter=100)\n",
    "model.fit(X_train, Y_train)"
   ]
  },
  {
   "cell_type": "code",
   "execution_count": null,
   "metadata": {},
   "outputs": [],
   "source": [
    "X_train_pred = model.predict(X_train)\n",
    "X_test_pred = model.predict(X_test)\n",
    "\n",
    "train_acc = accuracy_score(Y_train, X_train_pred)\n",
    "test_acc = accuracy_score(Y_test, X_test_pred)\n",
    "\n",
    "print(f\"✅ Training Accuracy: {train_acc}\")\n",
    "print(f\"✅ Testing Accuracy: {test_acc}\")"
   ]
  },
  {
   "cell_type": "code",
   "execution_count": null,
   "metadata": {},
   "outputs": [],
   "source": [
    "with open('sentiment_model.pkl', 'wb') as f:\n",
    "    pickle.dump({'model': model, 'vectorizer': vectorizer}, f)"
   ]
  },
  {
   "cell_type": "code",
   "execution_count": null,
   "metadata": {},
   "outputs": [],
   "source": [
    "with open('sentiment_model.pkl', 'rb') as f:\n",
    "    data = pickle.load(f)\n",
    "    loaded_model = data['model']\n",
    "    vectorizer = data['vectorizer']"
   ]
  },
  {
   "cell_type": "code",
   "execution_count": null,
   "metadata": {},
   "outputs": [],
   "source": [
    "def predict_sentiment(input_text):\n",
    "    stemmed = re.sub('[^a-zA-Z]', ' ', input_text).lower().split()\n",
    "    stemmed = [port_stem.stem(word) for word in stemmed if word not in stop_words]\n",
    "    final_text = ' '.join(stemmed)\n",
    "\n",
    "    vectorized_input = vectorizer.transform([final_text])\n",
    "    prediction = loaded_model.predict(vectorized_input)[0]\n",
    "\n",
    "    label_map = {0: \"❌ Negative\", 1: \"😐 Neutral\", 2: \"✅ Positive\"}\n",
    "    sentiment = label_map.get(prediction, \"Unknown\")\n",
    "\n",
    "    print(f\"Input: {input_text}\")\n",
    "    print(f\"Predicted Sentiment: {sentiment}\")"
   ]
  },
  {
   "cell_type": "code",
   "execution_count": null,
   "metadata": {},
   "outputs": [],
   "source": [
    "predict_sentiment(\"I absolutely love this product!\")\n",
    "predict_sentiment(\"It's okay, nothing special.\")\n",
    "predict_sentiment(\"This is the worst service ever.\")"
   ]
  }
 ],
 "metadata": {
  "kernelspec": {
   "display_name": "Python 3",
   "language": "python",
   "name": "python3"
  },
  "language_info": {
   "name": "python",
   "version": "3.9"
  }
 },
 "nbformat": 4,
 "nbformat_minor": 5
}
